{
 "cells": [
  {
   "cell_type": "code",
   "execution_count": 1,
   "metadata": {},
   "outputs": [
    {
     "name": "stdout",
     "output_type": "stream",
     "text": [
      "\u001b[33mWARNING: You are using pip version 22.0.4; however, version 23.1.2 is available.\n",
      "You should consider upgrading via the '/home/nano/projects/nlp_assignment_5/task2/.venv/bin/python -m pip install --upgrade pip' command.\u001b[0m\u001b[33m\n",
      "\u001b[0mNote: you may need to restart the kernel to use updated packages.\n"
     ]
    }
   ],
   "source": [
    "%pip install -q accelerate datasets evaluate numpy transformers torch sentencepiece wandb"
   ]
  },
  {
   "attachments": {},
   "cell_type": "markdown",
   "metadata": {},
   "source": [
    "## Imports"
   ]
  },
  {
   "cell_type": "code",
   "execution_count": 2,
   "metadata": {},
   "outputs": [],
   "source": [
    "from datasets import load_dataset, Dataset, DatasetDict\n",
    "import evaluate\n",
    "import numpy as np\n",
    "import random\n",
    "from transformers import (\n",
    "    Seq2SeqTrainer, \n",
    "    Seq2SeqTrainingArguments,\n",
    "    T5Tokenizer, \n",
    "    T5ForConditionalGeneration\n",
    ")\n",
    "from typing import Any, Dict\n",
    "import wandb"
   ]
  },
  {
   "attachments": {},
   "cell_type": "markdown",
   "metadata": {},
   "source": [
    "## Load Dataset"
   ]
  },
  {
   "cell_type": "code",
   "execution_count": 3,
   "metadata": {},
   "outputs": [
    {
     "name": "stderr",
     "output_type": "stream",
     "text": [
      "Found cached dataset qasper (/home/nano/.cache/huggingface/datasets/allenai___qasper/qasper/0.3.0/2bfcd239e581ab83f9ab7b76a82e42c6bcf574a13246ae6cc5a6c357c35f96f9)\n"
     ]
    },
    {
     "data": {
      "application/vnd.jupyter.widget-view+json": {
       "model_id": "91d7534dde954827b869c2eb415ea018",
       "version_major": 2,
       "version_minor": 0
      },
      "text/plain": [
       "  0%|          | 0/3 [00:00<?, ?it/s]"
      ]
     },
     "metadata": {},
     "output_type": "display_data"
    }
   ],
   "source": [
    "# Global constants\n",
    "SEED = 42 # Random seed for reproducability\n",
    "random.seed(SEED)\n",
    "\n",
    "dataset = load_dataset(\"allenai/qasper\")"
   ]
  },
  {
   "attachments": {},
   "cell_type": "markdown",
   "metadata": {},
   "source": [
    "## Preprocessing Step 1 - Extraction of relevant texts"
   ]
  },
  {
   "cell_type": "code",
   "execution_count": 4,
   "metadata": {},
   "outputs": [],
   "source": [
    "def get_formatted_dataset_from_split(dataset_split):\n",
    "    abstracts = []\n",
    "    questions = []\n",
    "    answers = []\n",
    "    \n",
    "    # Iterate over all articles\n",
    "    for article in dataset_split:\n",
    "        qa = article['qas']\n",
    "\n",
    "        # Iterate over all questions and answers\n",
    "        for question, answer in zip(qa['question'], qa['answers']):\n",
    "            unanswerable = False\n",
    "            # Generate all answer candidates, from which we then randomly sample\n",
    "            answer_candidates = []\n",
    "            for question_answer in answer['answer']:   \n",
    "                # Additional check to skip unanswerable questions\n",
    "                if question_answer['unanswerable']:\n",
    "                    unanswerable = True\n",
    "                           \n",
    "                answer = question_answer['free_form_answer'] if question_answer['free_form_answer'] else ' '.join(question_answer['extractive_spans'])\n",
    "                answer_candidates.append(answer)\n",
    "\n",
    "            # If a question is unanswerable, skip it as to not pollute the training data set\n",
    "            if unanswerable or len(answer_candidates) == 0: continue\n",
    "            \n",
    "            # Finally add relevant objects to training data\n",
    "            abstracts.append(article['abstract'])\n",
    "            questions.append(question)\n",
    "            answers.append(random.choice(answer_candidates)) # Randomly sample from available answers\n",
    "    \n",
    "    # DEBUG: Sanity check \n",
    "    assert len(abstracts) == len(questions) == len(answers)\n",
    "    \n",
    "    return Dataset.from_dict({\n",
    "        'abstract': abstracts,\n",
    "        'question': questions,\n",
    "        'answer': answers\n",
    "    }).with_format(\"torch\")"
   ]
  },
  {
   "cell_type": "code",
   "execution_count": 5,
   "metadata": {},
   "outputs": [
    {
     "name": "stdout",
     "output_type": "stream",
     "text": [
      "Dataset({\n",
      "    features: ['abstract', 'question', 'answer'],\n",
      "    num_rows: 2315\n",
      "})\n",
      "Dataset({\n",
      "    features: ['abstract', 'question', 'answer'],\n",
      "    num_rows: 1208\n",
      "})\n"
     ]
    }
   ],
   "source": [
    "# Task 4 - Initial Preprocessing of qasper dataset\n",
    "train_dataset = get_formatted_dataset_from_split(dataset['train'])\n",
    "test_dataset = get_formatted_dataset_from_split(dataset['test'])\n",
    "\n",
    "print(train_dataset)\n",
    "print(test_dataset)"
   ]
  },
  {
   "cell_type": "code",
   "execution_count": 6,
   "metadata": {},
   "outputs": [
    {
     "data": {
      "text/plain": [
       "DatasetDict({\n",
       "    train: Dataset({\n",
       "        features: ['abstract', 'question', 'answer'],\n",
       "        num_rows: 2083\n",
       "    })\n",
       "    test: Dataset({\n",
       "        features: ['abstract', 'question', 'answer'],\n",
       "        num_rows: 1208\n",
       "    })\n",
       "    val: Dataset({\n",
       "        features: ['abstract', 'question', 'answer'],\n",
       "        num_rows: 232\n",
       "    })\n",
       "})"
      ]
     },
     "execution_count": 6,
     "metadata": {},
     "output_type": "execute_result"
    }
   ],
   "source": [
    "# Task 5 - Get validation set from train\n",
    "train_val_dataset = train_dataset.train_test_split(test_size=0.1, seed=SEED)\n",
    "\n",
    "dataset = DatasetDict({\n",
    "    'train': train_val_dataset[\"train\"],\n",
    "    'test': test_dataset,\n",
    "    'val': train_val_dataset['test']\n",
    "})\n",
    "\n",
    "dataset"
   ]
  },
  {
   "attachments": {},
   "cell_type": "markdown",
   "metadata": {},
   "source": [
    "## Preprocessing Part 2 - Tokenization"
   ]
  },
  {
   "cell_type": "code",
   "execution_count": 7,
   "metadata": {},
   "outputs": [],
   "source": [
    "# Task 6 - Preprocessing Function\n",
    "tokenizer = T5Tokenizer.from_pretrained(\"google/t5-efficient-tiny\")\n",
    "\n",
    "def preprocess_function(sample: Dict[str, Any]):\n",
    "    combined_qa = f\"question: {{{sample['question']}}} context: {{{sample['abstract']}}}\"\n",
    "    return {'feature': tokenizer(\n",
    "                            combined_qa, \n",
    "                            truncation=True, \n",
    "                            padding=\"max_length\", \n",
    "                            max_length=128\n",
    "                        ),\n",
    "            'labels':   tokenizer(\n",
    "                            sample['answer'], \n",
    "                            truncation=True, \n",
    "                            padding=\"max_length\", \n",
    "                            max_length=32).input_ids\n",
    "            }"
   ]
  },
  {
   "cell_type": "code",
   "execution_count": 8,
   "metadata": {},
   "outputs": [
    {
     "data": {
      "application/vnd.jupyter.widget-view+json": {
       "model_id": "0a4ca7515feb4f37b4996686f2e8594b",
       "version_major": 2,
       "version_minor": 0
      },
      "text/plain": [
       "Map:   0%|          | 0/2083 [00:00<?, ? examples/s]"
      ]
     },
     "metadata": {},
     "output_type": "display_data"
    },
    {
     "data": {
      "application/vnd.jupyter.widget-view+json": {
       "model_id": "5cd041ae2f854653825143969529dcb1",
       "version_major": 2,
       "version_minor": 0
      },
      "text/plain": [
       "Map:   0%|          | 0/1208 [00:00<?, ? examples/s]"
      ]
     },
     "metadata": {},
     "output_type": "display_data"
    },
    {
     "data": {
      "application/vnd.jupyter.widget-view+json": {
       "model_id": "2a779ca8f2694b7ea474746c30c5f621",
       "version_major": 2,
       "version_minor": 0
      },
      "text/plain": [
       "Map:   0%|          | 0/232 [00:00<?, ? examples/s]"
      ]
     },
     "metadata": {},
     "output_type": "display_data"
    }
   ],
   "source": [
    "# Task 7 - Apply preprocessing function using map\n",
    "encoded_ds = dataset.map(\n",
    "                preprocess_function,\n",
    "                remove_columns=['abstract', 'question', 'answer']\n",
    "             )\n",
    "\n",
    "encoded_ds = encoded_ds.flatten() # Flatten such that input_ids and input mask come to the first level\n",
    "\n",
    "# Rename colummns such that trainer knows what to do\n",
    "encoded_ds = encoded_ds.rename_columns({\n",
    "    'feature.attention_mask': 'attention_mask',\n",
    "    'feature.input_ids':      'input_ids'\n",
    "})\n",
    "# encoded_ds = encoded_ds.remove_columns(['attention_mask'])"
   ]
  },
  {
   "attachments": {},
   "cell_type": "markdown",
   "metadata": {},
   "source": [
    "## Load Model"
   ]
  },
  {
   "cell_type": "code",
   "execution_count": 9,
   "metadata": {},
   "outputs": [],
   "source": [
    "# Task 8 - load google/t5-efficient-tiny model with pre-trained weights\n",
    "model = T5ForConditionalGeneration.from_pretrained(\"google/t5-efficient-tiny\")"
   ]
  },
  {
   "attachments": {},
   "cell_type": "markdown",
   "metadata": {},
   "source": [
    "## Define TrainingArguments"
   ]
  },
  {
   "cell_type": "code",
   "execution_count": 10,
   "metadata": {},
   "outputs": [],
   "source": [
    "# Task 9 - Define Seq2SeqTrainerArguments with learning rate scheduling and weight decay\n",
    "num_epochs = 5\n",
    "batch_size = 64\n",
    "lr = 3e-4\n",
    "weight_decay = 0.01\n",
    "lr_scheduler_type = \"linear\" # ['linear', 'cosine', 'cosine_with_restarts', 'polynomial', 'constant', 'constant_with_warmup', 'inverse_sqrt', 'reduce_lr_on_plateau']\n",
    "\n",
    "# Define Seq2SeqTrainerArguments\n",
    "training_args = Seq2SeqTrainingArguments(\n",
    "    output_dir = './checkpoints/',\n",
    "    do_train=True,\n",
    "    do_eval=True,\n",
    "    \n",
    "    per_device_train_batch_size=batch_size,\n",
    "    per_device_eval_batch_size=batch_size,\n",
    "    num_train_epochs=num_epochs,\n",
    "    learning_rate=lr,\n",
    "    lr_scheduler_type=lr_scheduler_type,\n",
    "    weight_decay=weight_decay,\n",
    "\n",
    "    save_strategy=\"epoch\",\n",
    "    logging_strategy='epoch',\n",
    "    evaluation_strategy=\"epoch\",\n",
    "    load_best_model_at_end=True,\n",
    "    \n",
    "    report_to=\"wandb\"\n",
    ")\n"
   ]
  },
  {
   "attachments": {},
   "cell_type": "markdown",
   "metadata": {},
   "source": [
    "## Evaluation Metric - BLEU"
   ]
  },
  {
   "cell_type": "code",
   "execution_count": 11,
   "metadata": {},
   "outputs": [
    {
     "data": {
      "application/vnd.jupyter.widget-view+json": {
       "model_id": "99d97e38d3a847e38212194f352e1e2a",
       "version_major": 2,
       "version_minor": 0
      },
      "text/plain": [
       "Downloading builder script:   0%|          | 0.00/5.94k [00:00<?, ?B/s]"
      ]
     },
     "metadata": {},
     "output_type": "display_data"
    },
    {
     "data": {
      "application/vnd.jupyter.widget-view+json": {
       "model_id": "7c8e131fc44242ab99a4e9769fa91e83",
       "version_major": 2,
       "version_minor": 0
      },
      "text/plain": [
       "Downloading extra modules:   0%|          | 0.00/1.55k [00:00<?, ?B/s]"
      ]
     },
     "metadata": {},
     "output_type": "display_data"
    },
    {
     "data": {
      "application/vnd.jupyter.widget-view+json": {
       "model_id": "15daad4610d54237adf7576d790dc59c",
       "version_major": 2,
       "version_minor": 0
      },
      "text/plain": [
       "Downloading extra modules:   0%|          | 0.00/3.34k [00:00<?, ?B/s]"
      ]
     },
     "metadata": {},
     "output_type": "display_data"
    }
   ],
   "source": [
    "# TODO: Calculate BLEU Score as evaluation metric\n",
    "bleu = evaluate.load('bleu')\n",
    "    \n",
    "def compute_metrics(eval_pred):\n",
    "    # print(eval_pred)\n",
    "    predictions, labels = eval_pred\n",
    "    return bleu.compute(predictions=predictions, references=labels)"
   ]
  },
  {
   "attachments": {},
   "cell_type": "markdown",
   "metadata": {},
   "source": [
    "## Define Trainer"
   ]
  },
  {
   "cell_type": "code",
   "execution_count": 12,
   "metadata": {},
   "outputs": [],
   "source": [
    "# Task 10 - Trainer\n",
    "trainer = Seq2SeqTrainer(\n",
    "    model=model,\n",
    "    args=training_args,\n",
    "    train_dataset=encoded_ds['train'],\n",
    "    eval_dataset=encoded_ds['test'],\n",
    "    compute_metrics=compute_metrics\n",
    ")"
   ]
  },
  {
   "attachments": {},
   "cell_type": "markdown",
   "metadata": {},
   "source": [
    "## Train Model"
   ]
  },
  {
   "cell_type": "code",
   "execution_count": 13,
   "metadata": {},
   "outputs": [
    {
     "name": "stderr",
     "output_type": "stream",
     "text": [
      "Failed to detect the name of this notebook, you can set it manually with the WANDB_NOTEBOOK_NAME environment variable to enable code saving.\n",
      "\u001b[34m\u001b[1mwandb\u001b[0m: Currently logged in as: \u001b[33mdkuska\u001b[0m (\u001b[33mnlp-sose2023\u001b[0m). Use \u001b[1m`wandb login --relogin`\u001b[0m to force relogin\n"
     ]
    },
    {
     "data": {
      "text/html": [
       "Tracking run with wandb version 0.15.5"
      ],
      "text/plain": [
       "<IPython.core.display.HTML object>"
      ]
     },
     "metadata": {},
     "output_type": "display_data"
    },
    {
     "data": {
      "text/html": [
       "Run data is saved locally in <code>/home/nano/projects/nlp_assignment_5/task2/wandb/run-20230706_185628-2izvnevz</code>"
      ],
      "text/plain": [
       "<IPython.core.display.HTML object>"
      ]
     },
     "metadata": {},
     "output_type": "display_data"
    },
    {
     "data": {
      "text/html": [
       "Syncing run <strong><a href='https://wandb.ai/nlp-sose2023/nlp-assignment5-task2/runs/2izvnevz' target=\"_blank\">devoted-sun-1</a></strong> to <a href='https://wandb.ai/nlp-sose2023/nlp-assignment5-task2' target=\"_blank\">Weights & Biases</a> (<a href='https://wandb.me/run' target=\"_blank\">docs</a>)<br/>"
      ],
      "text/plain": [
       "<IPython.core.display.HTML object>"
      ]
     },
     "metadata": {},
     "output_type": "display_data"
    },
    {
     "data": {
      "text/html": [
       " View project at <a href='https://wandb.ai/nlp-sose2023/nlp-assignment5-task2' target=\"_blank\">https://wandb.ai/nlp-sose2023/nlp-assignment5-task2</a>"
      ],
      "text/plain": [
       "<IPython.core.display.HTML object>"
      ]
     },
     "metadata": {},
     "output_type": "display_data"
    },
    {
     "data": {
      "text/html": [
       " View run at <a href='https://wandb.ai/nlp-sose2023/nlp-assignment5-task2/runs/2izvnevz' target=\"_blank\">https://wandb.ai/nlp-sose2023/nlp-assignment5-task2/runs/2izvnevz</a>"
      ],
      "text/plain": [
       "<IPython.core.display.HTML object>"
      ]
     },
     "metadata": {},
     "output_type": "display_data"
    },
    {
     "name": "stderr",
     "output_type": "stream",
     "text": [
      "/home/nano/projects/nlp_assignment_5/task2/.venv/lib/python3.9/site-packages/transformers/optimization.py:411: FutureWarning: This implementation of AdamW is deprecated and will be removed in a future version. Use the PyTorch implementation torch.optim.AdamW instead, or set `no_deprecation_warning=True` to disable this warning\n",
      "  warnings.warn(\n"
     ]
    },
    {
     "data": {
      "application/vnd.jupyter.widget-view+json": {
       "model_id": "95ad94a88175414b8fdb9a373a83e61a",
       "version_major": 2,
       "version_minor": 0
      },
      "text/plain": [
       "  0%|          | 0/165 [00:00<?, ?it/s]"
      ]
     },
     "metadata": {},
     "output_type": "display_data"
    },
    {
     "name": "stdout",
     "output_type": "stream",
     "text": [
      "{'loss': 7.0736, 'learning_rate': 0.00023999999999999998, 'epoch': 1.0}\n"
     ]
    },
    {
     "data": {
      "application/vnd.jupyter.widget-view+json": {
       "model_id": "c9f6d2dd29f04a0287ab319366e51a1e",
       "version_major": 2,
       "version_minor": 0
      },
      "text/plain": [
       "  0%|          | 0/19 [00:00<?, ?it/s]"
      ]
     },
     "metadata": {},
     "output_type": "display_data"
    },
    {
     "ename": "",
     "evalue": "",
     "output_type": "error",
     "traceback": [
      "\u001b[1;31mCannot execute code, session has been disposed. Please try restarting the Kernel."
     ]
    },
    {
     "ename": "",
     "evalue": "",
     "output_type": "error",
     "traceback": [
      "\u001b[1;31mThe Kernel crashed while executing code in the the current cell or a previous cell. Please review the code in the cell(s) to identify a possible cause of the failure. Click <a href='https://aka.ms/vscodeJupyterKernelCrash'>here</a> for more info. View Jupyter <a href='command:jupyter.viewOutput'>log</a> for further details."
     ]
    }
   ],
   "source": [
    "# TODO: Register experiment at Weights & Biases  https://wandb.ai/site\n",
    "wandb_project_name = \"nlp-assignment5-task2\"\n",
    "run = wandb.init(project=wandb_project_name)\n",
    "\n",
    "trainer.train()\n",
    "\n",
    "wandb.finish()"
   ]
  },
  {
   "attachments": {},
   "cell_type": "markdown",
   "metadata": {},
   "source": [
    "## Inference"
   ]
  },
  {
   "cell_type": "code",
   "execution_count": null,
   "metadata": {},
   "outputs": [],
   "source": [
    "# Task 11\n",
    "\n",
    "# TODO: Choose a sample of the test set"
   ]
  }
 ],
 "metadata": {
  "kernelspec": {
   "display_name": "Python 3",
   "language": "python",
   "name": "python3"
  },
  "language_info": {
   "codemirror_mode": {
    "name": "ipython",
    "version": 3
   },
   "file_extension": ".py",
   "mimetype": "text/x-python",
   "name": "python",
   "nbconvert_exporter": "python",
   "pygments_lexer": "ipython3",
   "version": "3.9.12"
  },
  "orig_nbformat": 4
 },
 "nbformat": 4,
 "nbformat_minor": 2
}
